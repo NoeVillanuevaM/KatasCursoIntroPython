{
 "cells": [
  {
   "cell_type": "markdown",
   "metadata": {},
   "source": [
    "## Utilizaremos los operadores aritmetico para calcular la distancia entre planetas"
   ]
  },
  {
   "cell_type": "code",
   "execution_count": 5,
   "metadata": {},
   "outputs": [
    {
     "name": "stdout",
     "output_type": "stream",
     "text": [
      "Distancia entre el planeta Tierra y el planeta Jupiter: \n",
      "628949330 en kilometros\n",
      "390577534 en millas\n",
      "\n"
     ]
    }
   ],
   "source": [
    "distanciaTierra = 149597870 #km\n",
    "distanciaJupiter = 778547200 #km\n",
    "\n",
    "distanciaKm = abs(distanciaTierra - distanciaJupiter)\n",
    "\n",
    "distanciaM = round(distanciaKm * 0.621)\n",
    "\n",
    "resultado = \"\"\"Distancia entre el planeta Tierra y el planeta Jupiter: \n",
    "{0} en kilometros\n",
    "{1} en millas\n",
    "\"\"\".format(distanciaKm, distanciaM) \n",
    "\n",
    "print(resultado)\n"
   ]
  },
  {
   "cell_type": "code",
   "execution_count": 6,
   "metadata": {},
   "outputs": [
    {
     "name": "stdout",
     "output_type": "stream",
     "text": [
      "Distancia entre el primer planeta y el segundo planeta: \n",
      "70100000 en kilometros\n",
      "390577534 en millas\n",
      "\n"
     ]
    }
   ],
   "source": [
    "planetaUno = input(\"¿Cúal es la distancia del sol para el primer planeta en km?\")\n",
    "planetaDos = input(\"¿Cúal es la distancia del sol para el segundo planeta en km?\")\n",
    "\n",
    "conversionUno = int(planetaUno)\n",
    "conversionDos = int(planetaDos)\n",
    "\n",
    "distancia_Km = abs(conversionUno - conversionDos)\n",
    "\n",
    "distancia_Millas = round(distanciaKm * 0.621)\n",
    "\n",
    "resultado = \"\"\"Distancia entre el primer planeta y el segundo planeta: \n",
    "{0} en kilometros\n",
    "{1} en millas\n",
    "\"\"\".format(distancia_Km, distancia_Millas) \n",
    "\n",
    "print(resultado)"
   ]
  }
 ],
 "metadata": {
  "interpreter": {
   "hash": "fe42624050422b4c7017cbf07b67a56e0c33425d8a7f242cba1a76058dd4b4a2"
  },
  "kernelspec": {
   "display_name": "Python 3.10.2 64-bit",
   "language": "python",
   "name": "python3"
  },
  "language_info": {
   "codemirror_mode": {
    "name": "ipython",
    "version": 3
   },
   "file_extension": ".py",
   "mimetype": "text/x-python",
   "name": "python",
   "nbconvert_exporter": "python",
   "pygments_lexer": "ipython3",
   "version": "3.10.2"
  },
  "orig_nbformat": 4
 },
 "nbformat": 4,
 "nbformat_minor": 2
}

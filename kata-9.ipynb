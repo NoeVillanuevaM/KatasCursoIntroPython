{
 "cells": [
  {
   "cell_type": "markdown",
   "metadata": {},
   "source": [
    "## Estaremos utilizando funciones"
   ]
  },
  {
   "cell_type": "code",
   "execution_count": 13,
   "metadata": {},
   "outputs": [
    {
     "name": "stdout",
     "output_type": "stream",
     "text": [
      "Informe de conbustible disponible:\n",
      "    Promedio de combustible: 63%\n",
      "    Tanque principal: 40%\n",
      "    Tanque secundario: 60%\n",
      "    Tanque externo: 90%\n",
      "    \n"
     ]
    }
   ],
   "source": [
    "def informeCombustible(tanquePrincipal, tanqueSecundario, tanqueExterno):\n",
    "    \n",
    "    promedioCombustible = (tanquePrincipal + tanqueSecundario + tanqueExterno) / 3\n",
    "\n",
    "    return f\"\"\"Informe de conbustible disponible:\n",
    "    Promedio de combustible: {round(promedioCombustible)}%\n",
    "    Tanque principal: {tanquePrincipal}%\n",
    "    Tanque secundario: {tanqueSecundario}%\n",
    "    Tanque externo: {tanqueExterno}%\n",
    "    \"\"\"\n",
    "    \n",
    "print(informeCombustible(40, 60, 90))"
   ]
  },
  {
   "cell_type": "code",
   "execution_count": 14,
   "metadata": {},
   "outputs": [
    {
     "data": {
      "text/plain": [
       "82.0"
      ]
     },
     "execution_count": 14,
     "metadata": {},
     "output_type": "execute_result"
    }
   ],
   "source": [
    "def promedio(datos):\n",
    "    total = sum(datos)\n",
    "    numeroDeDatos = len(datos)\n",
    "    return total / numeroDeDatos\n",
    "\n",
    "promedio([80, 85, 81])"
   ]
  },
  {
   "cell_type": "code",
   "execution_count": 17,
   "metadata": {},
   "outputs": [
    {
     "name": "stdout",
     "output_type": "stream",
     "text": [
      "Informe de conbustible disponible:\n",
      "    Promedio de combustible: 78%\n",
      "    Tanque principal: 70%\n",
      "    Tanque secundario: 75%\n",
      "    Tanque externo: 90%\n",
      "    \n"
     ]
    }
   ],
   "source": [
    "# Actualizamos la funcion informeConbustible agregandole la funcion promedio\n",
    "\n",
    "def informeCombustible(tanquePrincipal, tanqueSecundario, tanqueExterno):\n",
    "\n",
    "    return f\"\"\"Informe de conbustible disponible:\n",
    "    Promedio de combustible: {round(promedio([tanquePrincipal, tanqueSecundario, tanqueExterno]))}%\n",
    "    Tanque principal: {tanquePrincipal}%\n",
    "    Tanque secundario: {tanqueSecundario}%\n",
    "    Tanque externo: {tanqueExterno}%\n",
    "    \"\"\"\n",
    "    \n",
    "print(informeCombustible(70, 75, 90))"
   ]
  },
  {
   "cell_type": "code",
   "execution_count": 21,
   "metadata": {},
   "outputs": [
    {
     "name": "stdout",
     "output_type": "stream",
     "text": [
      "\n",
      "    Mision a Luna\n",
      "    Tiempo total de vuelo = 83 minutos\n",
      "    total de conbustible = 536801    \n",
      "    \n"
     ]
    }
   ],
   "source": [
    "#Ejercicio No.2\n",
    "\n",
    "def informeMision(destino, *minutosDVuelo, **reservaConbustible):\n",
    "\n",
    "    return f\"\"\"\n",
    "    Mision a {destino}\n",
    "    Tiempo total de vuelo = {sum(minutosDVuelo)} minutos\n",
    "    total de conbustible = {sum(reservaConbustible.values())}    \n",
    "    \"\"\"\n",
    "print(informeMision('Luna', 12, 14, 57, principal=306281, externo=230520))"
   ]
  },
  {
   "cell_type": "code",
   "execution_count": 23,
   "metadata": {},
   "outputs": [
    {
     "name": "stdout",
     "output_type": "stream",
     "text": [
      "\n",
      "    Mision a marte\n",
      "    Tiempo total de vuelo = 6720 minutos\n",
      "    Total de conbustible = 6051346\n",
      "    tanque principal --> 5620301 gallones restantes\n",
      "tanque externo --> 431045 gallones restantes\n",
      "\n"
     ]
    }
   ],
   "source": [
    "#Actualizamos la funcion informeMision\n",
    "\n",
    "def informeMision(destino, *minutosDVuelo, **reservaConbustible):\n",
    "    reporte = f\"\"\"\n",
    "    Mision a {destino}\n",
    "    Tiempo total de vuelo = {sum(minutosDVuelo)} minutos\n",
    "    Total de conbustible = {sum(reservaConbustible.values())}\n",
    "    \"\"\"\n",
    "    for nombreTanque, gallones in reservaConbustible.items():\n",
    "        reporte += f\"tanque {nombreTanque} --> {gallones} gallones restantes\\n\"\n",
    "    return reporte\n",
    "\n",
    "print(informeMision(\"marte\", 20, 300, 6400, principal=5620301, externo=431045))"
   ]
  }
 ],
 "metadata": {
  "interpreter": {
   "hash": "fe42624050422b4c7017cbf07b67a56e0c33425d8a7f242cba1a76058dd4b4a2"
  },
  "kernelspec": {
   "display_name": "Python 3.10.2 64-bit",
   "language": "python",
   "name": "python3"
  },
  "language_info": {
   "codemirror_mode": {
    "name": "ipython",
    "version": 3
   },
   "file_extension": ".py",
   "mimetype": "text/x-python",
   "name": "python",
   "nbconvert_exporter": "python",
   "pygments_lexer": "ipython3",
   "version": "3.10.2"
  },
  "orig_nbformat": 4
 },
 "nbformat": 4,
 "nbformat_minor": 2
}

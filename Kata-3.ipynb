{
 "cells": [
  {
   "cell_type": "markdown",
   "metadata": {},
   "source": [
    "## Se aplicara la logica condicional utilizando if, else y elif"
   ]
  },
  {
   "cell_type": "code",
   "execution_count": 25,
   "metadata": {},
   "outputs": [
    {
     "name": "stdout",
     "output_type": "stream",
     "text": [
      "Advertencia un asteroide se aproxima a la tierra, y viaja a una velocidad de  49 km/s\n"
     ]
    }
   ],
   "source": [
    "velocidadAst = 49\n",
    "\n",
    "if velocidadAst > 25:\n",
    "    print(\"Advertencia un asteroide se aproxima a la tierra, y viaja a una velocidad de \",velocidadAst,\"km/s\")\n",
    "else:\n",
    "    print(\"Hay un asteroide que se aproxima a la tierra pero no representa ningun peligro, viaja a una velocidad de \", velocidadAst, \"km\\s\")"
   ]
  },
  {
   "cell_type": "code",
   "execution_count": 24,
   "metadata": {},
   "outputs": [
    {
     "name": "stdout",
     "output_type": "stream",
     "text": [
      "Un ateroide entro a la atmosfera pero no hay que preocuparse\n"
     ]
    }
   ],
   "source": [
    "velocidadAst = 19\n",
    "\n",
    "if velocidadAst > 20:\n",
    "    print(\"Atencion un asteroide antro a la atmosfera y hay posibilidades de que produzca luz asi que puedes buscarlo en el cielo\")\n",
    "elif velocidadAst == 20: \n",
    "    print(\"Atencion un asteroide antro a la atmosfera y producira luz asi que buscalo en el cielo\")\n",
    "else:\n",
    "    print(\"Un ateroide entro a la atmosfera pero no hay que preocuparse\")"
   ]
  },
  {
   "cell_type": "code",
   "execution_count": 1,
   "metadata": {},
   "outputs": [
    {
     "name": "stdout",
     "output_type": "stream",
     "text": [
      "ATENCION, un asteroide entro a la atmosfera y hay una luz en el cielo\n"
     ]
    }
   ],
   "source": [
    "velocidadAst = 30\n",
    "tamanoAst = 20\n",
    "\n",
    "if velocidadAst > 25 and tamanoAst > 25:\n",
    "    print(\"ATENCION, Un asteroide muy peligroso viene hacia la Tierra\")\n",
    "elif velocidadAst >= 20:\n",
    "    print(\"ATENCION, un asteroide entro a la atmosfera y hay una luz en el cielo\")\n",
    "elif tamanoAst < 25:\n",
    "    print(\"No hay nada que ver aquí\")\n",
    "else:\n",
    "    print(\"No hay nada que ver aquí\")"
   ]
  }
 ],
 "metadata": {
  "interpreter": {
   "hash": "fe42624050422b4c7017cbf07b67a56e0c33425d8a7f242cba1a76058dd4b4a2"
  },
  "kernelspec": {
   "display_name": "Python 3.10.2 64-bit",
   "language": "python",
   "name": "python3"
  },
  "language_info": {
   "codemirror_mode": {
    "name": "ipython",
    "version": 3
   },
   "file_extension": ".py",
   "mimetype": "text/x-python",
   "name": "python",
   "nbconvert_exporter": "python",
   "pygments_lexer": "ipython3",
   "version": "3.10.2"
  },
  "orig_nbformat": 4
 },
 "nbformat": 4,
 "nbformat_minor": 2
}

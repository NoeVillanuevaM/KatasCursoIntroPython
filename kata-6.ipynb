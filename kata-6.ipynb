{
 "cells": [
  {
   "cell_type": "markdown",
   "metadata": {},
   "source": [
    "## Crearemos y trabajaremos con listas"
   ]
  },
  {
   "cell_type": "code",
   "execution_count": 6,
   "metadata": {},
   "outputs": [
    {
     "name": "stdout",
     "output_type": "stream",
     "text": [
      "La cantidad de planetas es: 8\n",
      "Se añadio Plutón y hora la cantidad de planetas es: 9\n",
      "El ultimo planeta de nuestra lista es Plutón\n"
     ]
    }
   ],
   "source": [
    "planetas = ['Mercurio', 'Venus', 'Tierra', 'Marte', 'Jupiter', 'Saturno', 'Urano', 'Neptuno']\n",
    "\n",
    "print(\"La cantidad de planetas es:\",len(planetas))\n",
    "\n",
    "planetas.append('Plutón')\n",
    "\n",
    "print(\"Se añadio Plutón y hora la cantidad de planetas es:\",len(planetas))\n",
    "\n",
    "print(\"El ultimo planeta de nuestra lista es\",planetas[-1])"
   ]
  },
  {
   "cell_type": "code",
   "execution_count": 14,
   "metadata": {},
   "outputs": [
    {
     "name": "stdout",
     "output_type": "stream",
     "text": [
      "Esta es la lista de planetas mas sercanos al sol que el planeta que buscaste ['Mercurio', 'Venus', 'Tierra', 'Marte', 'Jupiter']\n",
      "Esta es la lista de planetas mas lejanos al sol que el planeta que buscaste ['Urano', 'Neptuno']\n"
     ]
    }
   ],
   "source": [
    "planetas = ['Mercurio', 'Venus', 'Tierra', 'Marte', 'Jupiter', 'Saturno', 'Urano', 'Neptuno']\n",
    "\n",
    "planeta = input(\"Ingresa el nombre del planeta que estas buscando, comenzando con una letra mayuscula\")\n",
    "\n",
    "pos = planetas.index(planeta)\n",
    "\n",
    "print(\"Esta es la lista de planetas mas sercanos al sol que el planeta que buscaste\",planetas[0:pos])\n",
    "print(\"Esta es la lista de planetas mas lejanos al sol que el planeta que buscaste\",planetas[pos+1:])"
   ]
  }
 ],
 "metadata": {
  "interpreter": {
   "hash": "fe42624050422b4c7017cbf07b67a56e0c33425d8a7f242cba1a76058dd4b4a2"
  },
  "kernelspec": {
   "display_name": "Python 3.10.2 64-bit",
   "language": "python",
   "name": "python3"
  },
  "language_info": {
   "codemirror_mode": {
    "name": "ipython",
    "version": 3
   },
   "file_extension": ".py",
   "mimetype": "text/x-python",
   "name": "python",
   "nbconvert_exporter": "python",
   "pygments_lexer": "ipython3",
   "version": "3.10.2"
  },
  "orig_nbformat": 4
 },
 "nbformat": 4,
 "nbformat_minor": 2
}

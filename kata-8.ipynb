{
 "cells": [
  {
   "cell_type": "markdown",
   "metadata": {},
   "source": [
    "## En el siguiente codigo utilizaremos los diccionarios"
   ]
  },
  {
   "cell_type": "code",
   "execution_count": 8,
   "metadata": {},
   "outputs": [
    {
     "name": "stdout",
     "output_type": "stream",
     "text": [
      "Nombre del planeta: Marte \n",
      "Numero de lunas: 2\n",
      "El planeta Marte tiene una circunferencia polar de: 6752\n"
     ]
    }
   ],
   "source": [
    "planeta = {\n",
    "    'nombre' : 'Marte',\n",
    "    'lunas' : 2\n",
    "}\n",
    "\n",
    "print(\"Nombre del planeta:\",planeta['nombre'], \"\\nNumero de lunas:\", planeta['lunas'])\n",
    "\n",
    "planeta['circunferencia km'] = {\n",
    "    'polar' : 6752,\n",
    "    'equatorial' : 6792\n",
    "}\n",
    "\n",
    "print(f\"El planeta {planeta['nombre']} tiene una circunferencia polar de: {planeta['circunferencia km']['polar']}\")\n"
   ]
  },
  {
   "cell_type": "code",
   "execution_count": 15,
   "metadata": {},
   "outputs": [
    {
     "name": "stdout",
     "output_type": "stream",
     "text": [
      "El total de lunas es: 214\n",
      "El numero total de planetas es: 12\n",
      "El promedio de lunas es: 17.833333333333332\n"
     ]
    }
   ],
   "source": [
    "lunasDePlanetas = {\n",
    "    'Mercurio' : 0,\n",
    "    'Venus' : 0,\n",
    "    'Tierra' : 1,\n",
    "    'Marte': 2,\n",
    "    'Jupiter': 79,\n",
    "    'Saturno': 82,\n",
    "    'Urano': 27,\n",
    "    'Neptuno': 14,\n",
    "    'plutón': 5,\n",
    "    'haumea': 2,\n",
    "    'makemake': 1,\n",
    "    'eris': 1\n",
    "}\n",
    "\n",
    "lunas = lunasDePlanetas.values()\n",
    "\n",
    "planetas = len(lunasDePlanetas.keys())\n",
    "\n",
    "lunasTotales = 0\n",
    "\n",
    "for luna in lunas:\n",
    "    lunasTotales = lunasTotales + luna\n",
    "\n",
    "promedio = lunasTotales / planetas\n",
    "\n",
    "print(f'El total de lunas es: {lunasTotales}\\nEl numero total de planetas es: {planetas}\\nEl promedio de lunas es: {promedio}')"
   ]
  }
 ],
 "metadata": {
  "interpreter": {
   "hash": "fe42624050422b4c7017cbf07b67a56e0c33425d8a7f242cba1a76058dd4b4a2"
  },
  "kernelspec": {
   "display_name": "Python 3.10.2 64-bit",
   "language": "python",
   "name": "python3"
  },
  "language_info": {
   "codemirror_mode": {
    "name": "ipython",
    "version": 3
   },
   "file_extension": ".py",
   "mimetype": "text/x-python",
   "name": "python",
   "nbconvert_exporter": "python",
   "pygments_lexer": "ipython3",
   "version": "3.10.2"
  },
  "orig_nbformat": 4
 },
 "nbformat": 4,
 "nbformat_minor": 2
}
